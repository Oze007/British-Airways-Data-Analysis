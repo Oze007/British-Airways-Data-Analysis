{
 "cells": [
  {
   "cell_type": "code",
   "id": "initial_id",
   "metadata": {
    "collapsed": true,
    "ExecuteTime": {
     "end_time": "2025-01-12T14:26:27.107718Z",
     "start_time": "2025-01-12T14:26:27.104481Z"
    }
   },
   "source": [
    "import requests\n",
    "from bs4 import BeautifulSoup\n",
    "import pandas as pd\n",
    "from seaborn import countplot\n",
    "\n",
    "url = \"https://www.airlinequality.com/airline-reviews/british-airways/?sortby=post_date%3ADesc&pagesize=2000\""
   ],
   "outputs": [],
   "execution_count": 213
  },
  {
   "metadata": {
    "ExecuteTime": {
     "end_time": "2025-01-12T14:26:27.117088Z",
     "start_time": "2025-01-12T14:26:27.114218Z"
    }
   },
   "cell_type": "code",
   "source": "headers = {'User-Agent': 'Mozilla/5.0'}",
   "id": "6f5c3a85c6898f6b",
   "outputs": [],
   "execution_count": 214
  },
  {
   "metadata": {
    "ExecuteTime": {
     "end_time": "2025-01-12T14:26:35.287156Z",
     "start_time": "2025-01-12T14:26:29.399721Z"
    }
   },
   "cell_type": "code",
   "source": "response = requests.get(url, headers=headers)\n",
   "id": "636657269e9b2402",
   "outputs": [],
   "execution_count": 215
  },
  {
   "metadata": {
    "ExecuteTime": {
     "end_time": "2025-01-12T14:26:47.553019Z",
     "start_time": "2025-01-12T14:26:37.736356Z"
    }
   },
   "cell_type": "code",
   "source": "soup = BeautifulSoup(response.content, 'html.parser')",
   "id": "5d3b163c713f7361",
   "outputs": [],
   "execution_count": 216
  },
  {
   "metadata": {
    "ExecuteTime": {
     "end_time": "2025-01-12T14:26:50.061450Z",
     "start_time": "2025-01-12T14:26:49.800635Z"
    }
   },
   "cell_type": "code",
   "source": "reviews = soup.find_all('div', class_='text_content')\n",
   "id": "dcdb696a4d74bcd0",
   "outputs": [],
   "execution_count": 217
  },
  {
   "metadata": {
    "ExecuteTime": {
     "end_time": "2025-01-12T14:26:52.333419Z",
     "start_time": "2025-01-12T14:26:52.321899Z"
    }
   },
   "cell_type": "code",
   "source": "review_texts = [review.text.strip() for review in reviews]",
   "id": "904c18ac703ad84f",
   "outputs": [],
   "execution_count": 218
  },
  {
   "metadata": {
    "ExecuteTime": {
     "end_time": "2025-01-12T14:26:54.579809Z",
     "start_time": "2025-01-12T14:26:54.576151Z"
    }
   },
   "cell_type": "code",
   "source": "BAdata = pd.DataFrame({'Review': review_texts})\n",
   "id": "20ba2e9aef48a4cf",
   "outputs": [],
   "execution_count": 219
  },
  {
   "metadata": {
    "ExecuteTime": {
     "end_time": "2025-01-12T14:26:59.118324Z",
     "start_time": "2025-01-12T14:26:59.062330Z"
    }
   },
   "cell_type": "code",
   "source": "BAdata.to_csv('C:/Users/othma/OneDrive/Bureau/data/airline_reviews.csv', index=False)\n",
   "id": "424685b482e7f2c0",
   "outputs": [],
   "execution_count": 220
  },
  {
   "metadata": {
    "ExecuteTime": {
     "end_time": "2025-01-12T14:26:59.127119Z",
     "start_time": "2025-01-12T14:26:59.123903Z"
    }
   },
   "cell_type": "code",
   "source": [
    "import re\n",
    "import nltk\n",
    "from nltk.corpus import stopwords\n",
    "from nltk.tokenize import word_tokenize\n",
    "from wordcloud import WordCloud\n",
    "import matplotlib.pyplot as plt\n",
    "from sklearn.feature_extraction.text import CountVectorizer\n",
    "from sklearn.decomposition import LatentDirichletAllocation\n",
    "from textblob import TextBlob"
   ],
   "id": "bd2955ae83ab8b7c",
   "outputs": [],
   "execution_count": 221
  },
  {
   "metadata": {
    "ExecuteTime": {
     "end_time": "2025-01-12T14:27:01.492697Z",
     "start_time": "2025-01-12T14:27:01.454845Z"
    }
   },
   "cell_type": "code",
   "source": "data = pd.read_csv(r'C:\\Users\\othma\\OneDrive\\Bureau\\data\\airline_reviews.csv')",
   "id": "310c8789732ebf2",
   "outputs": [],
   "execution_count": 222
  },
  {
   "metadata": {
    "ExecuteTime": {
     "end_time": "2025-01-12T14:27:03.739670Z",
     "start_time": "2025-01-12T14:27:03.735012Z"
    }
   },
   "cell_type": "code",
   "source": "data.shape",
   "id": "bb888abc08052091",
   "outputs": [
    {
     "data": {
      "text/plain": [
       "(2000, 1)"
      ]
     },
     "execution_count": 223,
     "metadata": {},
     "output_type": "execute_result"
    }
   ],
   "execution_count": 223
  },
  {
   "metadata": {
    "ExecuteTime": {
     "end_time": "2025-01-12T14:27:08.270332Z",
     "start_time": "2025-01-12T14:27:08.265251Z"
    }
   },
   "cell_type": "code",
   "source": "data['Review'] = data ['Review'].str.strip()",
   "id": "de03e007a6ba74a",
   "outputs": [],
   "execution_count": 224
  },
  {
   "metadata": {
    "ExecuteTime": {
     "end_time": "2025-01-12T14:27:08.280314Z",
     "start_time": "2025-01-12T14:27:08.275068Z"
    }
   },
   "cell_type": "code",
   "source": "data=data.drop_duplicates(subset=['Review'])",
   "id": "b8ed589701cdcd6b",
   "outputs": [],
   "execution_count": 225
  },
  {
   "metadata": {
    "ExecuteTime": {
     "end_time": "2025-01-12T14:27:10.610747Z",
     "start_time": "2025-01-12T14:27:10.566463Z"
    }
   },
   "cell_type": "code",
   "source": "data['Review']=data['Review'].apply(lambda x: re.sub(r'[^a-zA-Z\\s]', '', x))",
   "id": "8d7ea3448ecaf6c3",
   "outputs": [],
   "execution_count": 226
  },
  {
   "metadata": {
    "ExecuteTime": {
     "end_time": "2025-01-12T14:27:12.919487Z",
     "start_time": "2025-01-12T14:27:12.912077Z"
    }
   },
   "cell_type": "code",
   "source": "data.head()",
   "id": "b1315f2761ef64df",
   "outputs": [
    {
     "data": {
      "text/plain": [
       "                                              Review\n",
       "0   Trip Verified    British airways lost bags in...\n",
       "1   Trip Verified  The check in process and rewar...\n",
       "2   Trip Verified    We flew in November  but it ...\n",
       "3   Trip Verified  I left for London from Johanne...\n",
       "4   Trip Verified    After an excellent flight on..."
      ],
      "text/html": [
       "<div>\n",
       "<style scoped>\n",
       "    .dataframe tbody tr th:only-of-type {\n",
       "        vertical-align: middle;\n",
       "    }\n",
       "\n",
       "    .dataframe tbody tr th {\n",
       "        vertical-align: top;\n",
       "    }\n",
       "\n",
       "    .dataframe thead th {\n",
       "        text-align: right;\n",
       "    }\n",
       "</style>\n",
       "<table border=\"1\" class=\"dataframe\">\n",
       "  <thead>\n",
       "    <tr style=\"text-align: right;\">\n",
       "      <th></th>\n",
       "      <th>Review</th>\n",
       "    </tr>\n",
       "  </thead>\n",
       "  <tbody>\n",
       "    <tr>\n",
       "      <th>0</th>\n",
       "      <td>Trip Verified    British airways lost bags in...</td>\n",
       "    </tr>\n",
       "    <tr>\n",
       "      <th>1</th>\n",
       "      <td>Trip Verified  The check in process and rewar...</td>\n",
       "    </tr>\n",
       "    <tr>\n",
       "      <th>2</th>\n",
       "      <td>Trip Verified    We flew in November  but it ...</td>\n",
       "    </tr>\n",
       "    <tr>\n",
       "      <th>3</th>\n",
       "      <td>Trip Verified  I left for London from Johanne...</td>\n",
       "    </tr>\n",
       "    <tr>\n",
       "      <th>4</th>\n",
       "      <td>Trip Verified    After an excellent flight on...</td>\n",
       "    </tr>\n",
       "  </tbody>\n",
       "</table>\n",
       "</div>"
      ]
     },
     "execution_count": 227,
     "metadata": {},
     "output_type": "execute_result"
    }
   ],
   "execution_count": 227
  },
  {
   "metadata": {
    "ExecuteTime": {
     "end_time": "2025-01-12T14:27:15.204843Z",
     "start_time": "2025-01-12T14:27:15.198355Z"
    }
   },
   "cell_type": "code",
   "source": "data['Review'] = data['Review'].str.lower()",
   "id": "cd4ad8fef90914bd",
   "outputs": [],
   "execution_count": 228
  },
  {
   "metadata": {
    "ExecuteTime": {
     "end_time": "2025-01-12T14:27:15.262831Z",
     "start_time": "2025-01-12T14:27:15.255876Z"
    }
   },
   "cell_type": "code",
   "source": [
    "import nltk\n",
    "# Download required NLTK data\n",
    "nltk.download('punkt')\n",
    "nltk.download('punkt_tab')\n",
    "nltk.download('stopwords')"
   ],
   "id": "474e9bae5d6af19c",
   "outputs": [
    {
     "name": "stderr",
     "output_type": "stream",
     "text": [
      "[nltk_data] Downloading package punkt to\n",
      "[nltk_data]     C:\\Users\\othma\\AppData\\Roaming\\nltk_data...\n",
      "[nltk_data]   Package punkt is already up-to-date!\n",
      "[nltk_data] Downloading package punkt_tab to\n",
      "[nltk_data]     C:\\Users\\othma\\AppData\\Roaming\\nltk_data...\n",
      "[nltk_data]   Package punkt_tab is already up-to-date!\n",
      "[nltk_data] Downloading package stopwords to\n",
      "[nltk_data]     C:\\Users\\othma\\AppData\\Roaming\\nltk_data...\n",
      "[nltk_data]   Package stopwords is already up-to-date!\n"
     ]
    },
    {
     "data": {
      "text/plain": [
       "True"
      ]
     },
     "execution_count": 229,
     "metadata": {},
     "output_type": "execute_result"
    }
   ],
   "execution_count": 229
  },
  {
   "metadata": {
    "ExecuteTime": {
     "end_time": "2025-01-12T14:27:16.224467Z",
     "start_time": "2025-01-12T14:27:15.307174Z"
    }
   },
   "cell_type": "code",
   "source": [
    "stop_words = set(stopwords.words('english'))\n",
    "data['Review'] = data['Review'].apply(lambda x: ' '.join([word for word in word_tokenize(x) if word not in stop_words]))"
   ],
   "id": "89eaaf1cbde806dd",
   "outputs": [],
   "execution_count": 230
  },
  {
   "metadata": {
    "ExecuteTime": {
     "end_time": "2025-01-12T14:27:18.491391Z",
     "start_time": "2025-01-12T14:27:18.484853Z"
    }
   },
   "cell_type": "code",
   "source": "data.head()",
   "id": "81cf966d6adbbdbd",
   "outputs": [
    {
     "data": {
      "text/plain": [
       "                                              Review\n",
       "0  trip verified british airways lost bags lhr fo...\n",
       "1  trip verified check process rewardloyalty prog...\n",
       "2  trip verified flew november took long seek sat...\n",
       "3  trip verified left london johannesburg decembe...\n",
       "4  trip verified excellent flight cpt lhr return ..."
      ],
      "text/html": [
       "<div>\n",
       "<style scoped>\n",
       "    .dataframe tbody tr th:only-of-type {\n",
       "        vertical-align: middle;\n",
       "    }\n",
       "\n",
       "    .dataframe tbody tr th {\n",
       "        vertical-align: top;\n",
       "    }\n",
       "\n",
       "    .dataframe thead th {\n",
       "        text-align: right;\n",
       "    }\n",
       "</style>\n",
       "<table border=\"1\" class=\"dataframe\">\n",
       "  <thead>\n",
       "    <tr style=\"text-align: right;\">\n",
       "      <th></th>\n",
       "      <th>Review</th>\n",
       "    </tr>\n",
       "  </thead>\n",
       "  <tbody>\n",
       "    <tr>\n",
       "      <th>0</th>\n",
       "      <td>trip verified british airways lost bags lhr fo...</td>\n",
       "    </tr>\n",
       "    <tr>\n",
       "      <th>1</th>\n",
       "      <td>trip verified check process rewardloyalty prog...</td>\n",
       "    </tr>\n",
       "    <tr>\n",
       "      <th>2</th>\n",
       "      <td>trip verified flew november took long seek sat...</td>\n",
       "    </tr>\n",
       "    <tr>\n",
       "      <th>3</th>\n",
       "      <td>trip verified left london johannesburg decembe...</td>\n",
       "    </tr>\n",
       "    <tr>\n",
       "      <th>4</th>\n",
       "      <td>trip verified excellent flight cpt lhr return ...</td>\n",
       "    </tr>\n",
       "  </tbody>\n",
       "</table>\n",
       "</div>"
      ]
     },
     "execution_count": 231,
     "metadata": {},
     "output_type": "execute_result"
    }
   ],
   "execution_count": 231
  },
  {
   "metadata": {
    "ExecuteTime": {
     "end_time": "2025-01-12T14:27:20.792168Z",
     "start_time": "2025-01-12T14:27:20.787073Z"
    }
   },
   "cell_type": "code",
   "source": "data.size",
   "id": "d4297fefff9e95fb",
   "outputs": [
    {
     "data": {
      "text/plain": [
       "2000"
      ]
     },
     "execution_count": 232,
     "metadata": {},
     "output_type": "execute_result"
    }
   ],
   "execution_count": 232
  },
  {
   "metadata": {
    "ExecuteTime": {
     "end_time": "2025-01-12T14:27:21.095515Z",
     "start_time": "2025-01-12T14:27:20.841479Z"
    }
   },
   "cell_type": "code",
   "source": [
    "from collections import Counter\n",
    "import matplotlib.pyplot as plt\n",
    "from wordcloud import STOPWORDS\n",
    "\n",
    "# Combine all reviews into a single string\n",
    "text = \" \".join(review for review in data['Review'])\n",
    "\n",
    "# Define stopwords and split the text into individual words\n",
    "stopwords = set(STOPWORDS)\n",
    "words = [word.lower() for word in text.split() if word.lower() not in stopwords]\n",
    "\n",
    "# Count word frequencies\n",
    "word_counts = Counter(words)\n",
    "\n",
    "# Get the 20 most common words\n",
    "common_words = word_counts.most_common(15)\n",
    "words, counts = zip(*common_words)\n",
    "\n",
    "# Create a horizontal bar chart\n",
    "plt.figure(figsize=(12, 8))\n",
    "plt.barh(words, counts, color='cyan')\n",
    "plt.gca().invert_yaxis()  # Invert y-axis to display the highest count at the top\n",
    "plt.title(\"Top 20 Most Frequent Words in Customer Reviews\", fontsize=16)\n",
    "plt.xlabel(\"Frequency\", fontsize=12)\n",
    "plt.ylabel(\"Words\", fontsize=12)\n",
    "plt.grid(axis='x', linestyle='--', alpha=0.7)\n",
    "plt.show()\n"
   ],
   "id": "af72ca58a6972da1",
   "outputs": [
    {
     "data": {
      "text/plain": [
       "<Figure size 1200x800 with 1 Axes>"
      ],
      "image/png": "[encoded data removed]"
     },
     "metadata": {},
     "output_type": "display_data"
    }
   ],
   "execution_count": 233
  },
  {
   "metadata": {
    "ExecuteTime": {
     "end_time": "2025-01-12T14:29:18.608447Z",
     "start_time": "2025-01-12T14:29:10.795118Z"
    }
   },
   "cell_type": "code",
   "source": [
    "# Converting text into numerical representation\n",
    "vectorizer=CountVectorizer(stop_words='english')\n",
    "X=vectorizer.fit_transform(data['Review'])\n",
    "\n",
    "# Applying LDA (Topic Modeling)\n",
    "lda=LatentDirichletAllocation(n_components=3 , random_state=42)\n",
    "lda.fit(X)\n",
    "#  Displaying topics\n",
    "for idx, topic in enumerate(lda.components_):\n",
    "    print(f\"topic #{idx+1}:\")\n",
    "    print([vectorizer.get_feature_names_out()[i] for i in topic.argsort()[-10:]])\n",
    "    print(\"\\n\")"
   ],
   "id": "cd4b21d4f3901a99",
   "outputs": [
    {
     "name": "stdout",
     "output_type": "stream",
     "text": [
      "topic #1:\n",
      "['trip', 'time', 'cabin', 'service', 'food', 'good', 'verified', 'crew', 'ba', 'flight']\n",
      "\n",
      "\n",
      "topic #2:\n",
      "['london', 'seats', 'food', 'service', 'seat', 'verified', 'flight', 'business', 'ba', 'class']\n",
      "\n",
      "\n",
      "topic #3:\n",
      "['hours', 'service', 'told', 'airways', 'british', 'london', 'trip', 'verified', 'ba', 'flight']\n",
      "\n",
      "\n"
     ]
    }
   ],
   "execution_count": 241
  },
  {
   "metadata": {
    "ExecuteTime": {
     "end_time": "2025-01-12T14:27:33.542227Z",
     "start_time": "2025-01-12T14:27:32.710795Z"
    }
   },
   "cell_type": "code",
   "source": [
    "#Sentiment Analysis\n",
    "data['Sentiment']=data['Review'].apply(lambda x: TextBlob(x).sentiment.polarity)"
   ],
   "id": "6b39ed4a7d91d85e",
   "outputs": [],
   "execution_count": 235
  },
  {
   "metadata": {
    "ExecuteTime": {
     "end_time": "2025-01-12T14:27:34.668284Z",
     "start_time": "2025-01-12T14:27:33.547854Z"
    }
   },
   "cell_type": "code",
   "source": [
    "data['sentiment']=data['Review'].apply(lambda review :'Positiv' if TextBlob(review).sentiment.polarity>0\n",
    "        else('Negative' if TextBlob(review).sentiment.polarity<0 else 'Neutral'))"
   ],
   "id": "3784058ce30c601",
   "outputs": [],
   "execution_count": 236
  },
  {
   "metadata": {
    "ExecuteTime": {
     "end_time": "2025-01-12T14:27:36.954233Z",
     "start_time": "2025-01-12T14:27:36.948906Z"
    }
   },
   "cell_type": "code",
   "source": [
    "#Print the results for all reviews\n",
    "print(data[['Review', 'sentiment']].head(10))"
   ],
   "id": "42b125303e3528d2",
   "outputs": [
    {
     "name": "stdout",
     "output_type": "stream",
     "text": [
      "                                              Review sentiment\n",
      "0  trip verified british airways lost bags lhr fo...  Negative\n",
      "1  trip verified check process rewardloyalty prog...  Negative\n",
      "2  trip verified flew november took long seek sat...  Negative\n",
      "3  trip verified left london johannesburg decembe...   Positiv\n",
      "4  trip verified excellent flight cpt lhr return ...   Positiv\n",
      "5  trip verified recent flight cyprus ba second c...   Positiv\n",
      "6  trip verified flight ba arrived rome december ...  Negative\n",
      "7  trip verified first time flew british airways ...   Positiv\n",
      "8  trip verified pretty good flight still small t...   Positiv\n",
      "9  trip verified check fine priorityfast track li...   Positiv\n"
     ]
    }
   ],
   "execution_count": 237
  },
  {
   "metadata": {
    "ExecuteTime": {
     "end_time": "2025-01-12T14:27:39.451804Z",
     "start_time": "2025-01-12T14:27:39.447827Z"
    }
   },
   "cell_type": "code",
   "source": "average_sentiment = data['Sentiment'].mean()",
   "id": "315f28a6fd47c73c",
   "outputs": [],
   "execution_count": 238
  },
  {
   "metadata": {
    "ExecuteTime": {
     "end_time": "2025-01-12T14:27:42.039651Z",
     "start_time": "2025-01-12T14:27:42.036005Z"
    }
   },
   "cell_type": "code",
   "source": "print(data['Sentiment'].mean())",
   "id": "29e48842852b9deb",
   "outputs": [
    {
     "name": "stdout",
     "output_type": "stream",
     "text": [
      "0.06731987874427048\n"
     ]
    }
   ],
   "execution_count": 239
  },
  {
   "metadata": {
    "ExecuteTime": {
     "end_time": "2025-01-12T14:27:44.387305Z",
     "start_time": "2025-01-12T14:27:44.383355Z"
    }
   },
   "cell_type": "code",
   "source": [
    "if average_sentiment < 0:\n",
    "    print('Negative')\n",
    "if average_sentiment > 0:\n",
    "    print('Positive')\n",
    "else :\n",
    "    print('Neutral')"
   ],
   "id": "f5633b463f128aa7",
   "outputs": [
    {
     "name": "stdout",
     "output_type": "stream",
     "text": [
      "Positive\n"
     ]
    }
   ],
   "execution_count": 240
  }
 ],
 "metadata": {
  "kernelspec": {
   "display_name": "Python 3",
   "language": "python",
   "name": "python3"
  },
  "language_info": {
   "codemirror_mode": {
    "name": "ipython",
    "version": 2
   },
   "file_extension": ".py",
   "mimetype": "text/x-python",
   "name": "python",
   "nbconvert_exporter": "python",
   "pygments_lexer": "ipython2",
   "version": "2.7.6"
  }
 },
 "nbformat": 4,
 "nbformat_minor": 5
}
